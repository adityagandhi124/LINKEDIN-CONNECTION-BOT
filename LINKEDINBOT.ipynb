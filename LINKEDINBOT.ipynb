{
 "cells": [
  {
   "cell_type": "code",
   "execution_count": null,
   "metadata": {},
   "outputs": [],
   "source": [
    "# connect python with webbrowser-chrome\n",
    "import time\n",
    "from selenium import webdriver\n",
    "from selenium.webdriver.chrome.service import Service\n",
    "from selenium.webdriver.common.keys import Keys\n",
    "import pyautogui as pag\n",
    "from time import sleep\n",
    "import pandas as pd\n",
    "from selenium.webdriver.common.by import By\n",
    "from selenium.webdriver.support.ui import Select\n",
    "from selenium.common.exceptions import NoSuchElementException    "
   ]
  },
  {
   "cell_type": "code",
   "execution_count": null,
   "metadata": {},
   "outputs": [],
   "source": [
    "# The try and catch function makes sure that the browser can find the selement and returns either true or false if it does\n",
    "def check_exists_by_xpath(browser, FIRST_CASE_CONNECT):\n",
    "    try:\n",
    "        browser.find_element(By.XPATH, FIRST_CASE_CONNECT)\n",
    "    except NoSuchElementException:\n",
    "        return False\n",
    "    return True"
   ]
  },
  {
   "cell_type": "code",
   "execution_count": null,
   "metadata": {},
   "outputs": [],
   "source": [
    "url_file_path = \"/Users/adityagandhi/Desktop/python projects/URLS.txt\"  # Replace with the actual file path\n",
    "\n",
    "# Read the contents of the file\n",
    "with open(url_file_path, \"r\") as file:\n",
    "    urls = file.readlines()\n",
    "\n",
    "# Clean the URLs by removing leading/trailing whitespace and newline characters\n",
    "urls = [url.strip() for url in urls]\n",
    "\n",
    "# We now create a variable pointing to the reference of the chrome driver and now we open the linkedin URL \n",
    "s=Service('chromedriver.exe')\n",
    "browser = webdriver.Chrome(service=s)\n",
    "url = \"http://linkedin.com/\"\n",
    "\n",
    "        # path to browser web driver\t\t\n",
    "browser.get(url)"
   ]
  },
  {
   "cell_type": "code",
   "execution_count": null,
   "metadata": {},
   "outputs": [],
   "source": [
    "# All of this code below is used to login to linkedin \n",
    "# XPATH is a way selenium programmers can attack different HTML elements  \n",
    "\n",
    "email = browser.find_element(by = By.XPATH, value = \"//input[@name = 'session_key']\")\n",
    "password = browser.find_element(by = By.XPATH, value = \"//input[@name = 'session_password']\")\n",
    "\n",
    "with open(r\"/Users/adityagandhi/Desktop/python projects/Username.txt\") as myUser: \n",
    "    username = myUser.read().replace('\\n', '') #this replaces any newline characters ('\\n') in the file contents with an empty string\n",
    "email.send_keys(username)\n",
    "\n",
    "with open(r\"/Users/adityagandhi/Desktop/python projects/Password.txt\") as myPass: \n",
    "    passcode = myPass.read().replace('\\n', '')\n",
    "password.send_keys(passcode)\n",
    "\n",
    "# Using time sleep is important because it gives time for the webpage to load! \n",
    "time.sleep(3)\n",
    "browser.find_element(by=By.XPATH, value = \"//button[@type = 'submit']\").click()\n",
    "time.sleep(3)"
   ]
  },
  {
   "cell_type": "code",
   "execution_count": null,
   "metadata": {},
   "outputs": [],
   "source": [
    "SECOND_CASE_CONNECT = \"//li-icon[@aria-hidden='true' and @type='connect' and contains(@class, 'mr3') and @size='large']\"\n",
    "\n",
    "# This will go through every url in the URLS.txt file and connect with their profile. \n",
    "for url in urls :\n",
    "    browser.get(url)\n",
    "    time.sleep(3)\n",
    "\n",
    "    # This code line below will store the name of the linkedin profile we want to connect to \n",
    "    h1_element = browser.find_element(By.CLASS_NAME, \"text-heading-xlarge\")\n",
    "    name = h1_element.text \n",
    "\n",
    "\n",
    "    FIRST_CASE_CONNECT = \"//button[@aria-label='Invite \" + name + \" to connect']//li-icon[@aria-hidden='true' and @type='connect' and contains(@class, 'artdeco-button__icon') and @size='small']\"\n",
    "    \n",
    "    #This if and else statement checks if the big blue connect button is on the webpage -- if not then the code will try to connect with the user by clicking the more button. \n",
    "    if(check_exists_by_xpath(browser, FIRST_CASE_CONNECT)): #the try/catch function is called to make sure the browser is locating the element we are trying to connect to. \n",
    "        time.sleep(3)\n",
    "        button = browser.find_element(by = By.XPATH, value = FIRST_CASE_CONNECT)\n",
    "        browser.execute_script(\"arguments[0].click();\", button)\n",
    "        time.sleep(3)\n",
    "        browser.find_element(By.CSS_SELECTOR,\"[aria-label='Send now']\").click()\n",
    "        time.sleep(3)\n",
    "    else: \n",
    "        button2 = browser.find_element(by = By.XPATH, value = \"//button[span[text()='More']]\") \n",
    "        browser.execute_script(\"arguments[0].click();\", button2)\n",
    "        time.sleep(3)\n",
    "        if(check_exists_by_xpath(browser, SECOND_CASE_CONNECT)):\n",
    "            CONNECT = browser.find_element(by = By.XPATH, value = SECOND_CASE_CONNECT)\n",
    "            browser.execute_script(\"arguments[0].click();\", CONNECT)\n",
    "            time.sleep(3)\n",
    "            browser.find_element(By.CSS_SELECTOR,\"[aria-label='Send now']\").click()\n",
    "            time.sleep(3)"
   ]
  }
 ],
 "metadata": {
  "kernelspec": {
   "display_name": "Python 3.11.4 64-bit",
   "language": "python",
   "name": "python3"
  },
  "language_info": {
   "codemirror_mode": {
    "name": "ipython",
    "version": 3
   },
   "file_extension": ".py",
   "mimetype": "text/x-python",
   "name": "python",
   "nbconvert_exporter": "python",
   "pygments_lexer": "ipython3",
   "version": "3.11.4"
  },
  "orig_nbformat": 4,
  "vscode": {
   "interpreter": {
    "hash": "aee8b7b246df8f9039afb4144a1f6fd8d2ca17a180786b69acc140d282b71a49"
   }
  }
 },
 "nbformat": 4,
 "nbformat_minor": 2
}
